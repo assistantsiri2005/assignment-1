{
  "nbformat": 4,
  "nbformat_minor": 0,
  "metadata": {
    "colab": {
      "provenance": []
    },
    "kernelspec": {
      "name": "python3",
      "display_name": "Python 3"
    },
    "language_info": {
      "name": "python"
    }
  },
  "cells": [
    {
      "cell_type": "code",
      "source": [],
      "metadata": {
        "id": "3KEAY6pDNVIY"
      },
      "execution_count": null,
      "outputs": []
    },
    {
      "cell_type": "markdown",
      "source": [
        "##Data Types and Structure\n",
        "\n",
        "\n",
        "1.what are data structures and why are  they important?                                                                    =Data structures are a way of oraganizing and storing data in a computer so that it can be assessed and used efficently.\n",
        "- They are provide sysytematic way to manage data,data structures are the building blocks of computer programs, influencing how effeciently data can be processed.\n",
        "\n",
        "\n",
        "\n",
        "2.explain the difference between nutable and immutable datatype with example?\n",
        "= The mutable data types which can be modified or changes according to user like lists.dictionaries,sets etc .\n",
        "- a immutable data type which can't modified and changed its constant like tuples,int etc.\n",
        "\n",
        "\n",
        "\n",
        "3.what are the main differences between lists and tuples ?\n",
        "=Lists has capacity of memory space, its slower , mutable data type and has square brackets.\n",
        "  - tuples has not much capacity of memory space , its faster , immutable datatype and has curve brackets.\n",
        "\n",
        "\n",
        "\n",
        "4.Describes how dictionaries store data.\n",
        "=\n",
        "  Dictionaries are used to store data values in key:value pairs.Dictinaries\n",
        "  is a collection which is ordered and do not allow duplicates.it is mutable datatype.\n",
        "\n",
        "\n",
        "\n",
        "5.why might you use a set instead of a list in python?\n",
        "  = sets only used unique element . if a collection must not contain duplicates, using set automatically removes the duplication of element .\n",
        "  - the operations for sets is significantly faster .sets are more efficients than than lists for storinf nondulicates elements .\n",
        "\n",
        "\n",
        "\n",
        "6.what is a string in python, and how is it different from list?\n",
        "  =\n",
        "  text is a string containing letters, spaces, punctuation, etc.\n",
        "  - Strings are immutable, meaning  they   cannot be changed after they   are created.\n",
        "\n",
        "  - A list is a sequence of elements (can be of any type: numbers, strings, even other lists), enclosed in square brackets [].\n",
        "\n",
        "\n",
        "\n",
        "7.how do tuples ensure data integrity in python?\n",
        "  =\n",
        "  In Python, tuples ensure data integrity by being immutable, which means once a tuple is created, its elements cannot be changed, added, or removed.\n",
        "  - This immutability is what helps protect the data from accidental or unauthorized modification.\n",
        "\n",
        "\n",
        "\n",
        "8.what is hash table, and how does it relate to dictionaries in python?\n",
        "  =\n",
        "  A hash functions takes a key (\"apple)\n",
        "  and converts it into an index.\n",
        "  - That index determines where the value is stored in memory.\n",
        "  - In Python, the built-in dict (dictionary) is implemented using a hash table.\n",
        "\n",
        "\n",
        "\n",
        "9.can lists contain different datatypes in python?\n",
        "  = Yes, lists in Python can contain different datatypes. Python lists are heterogeneous, meaning they can hold a mix of:\n",
        "  Integers\n",
        "  Strings\n",
        "  Floats\n",
        "  Booleans\n",
        "  \n",
        "\n",
        "\n",
        "10.explain why string are immutable in python?\n",
        "  =\n",
        "  In Python, strings are immutable, meaning once a string is created, it cannot be changed. You cannot modify, add, or delete characters in place.\n",
        "\n",
        "\n",
        "\n",
        "11.what advantages do dictionaries offer over lists for certain tasks?\n",
        "  =\n",
        "  1.faster data lockup\n",
        "  Dictionaries use hashing, allowing near constant-time (O(1)) lookup by key.\n",
        "\n",
        "  - Lists require a linear search (O(n)) to find an item by value.\n",
        "\n",
        "  2.Avoiding Duplicates\n",
        "  - Dictionary keys must be unique, which helps prevent duplicate entries.\n",
        "\n",
        "\n",
        "\n",
        "12.describe a scenario where tuple would be preferable over a list?\n",
        "  =\n",
        "  tuples has many advantages over lists.\n",
        "  - The data should not be changed.\n",
        "  - The structure has a fixed number of elements.\n",
        "  - You want safer, faster, and more memory-efficient code.\n",
        "\n",
        "\n",
        "\n",
        "13.how does set handles duplicates value in python?\n",
        "= When you add elements to a set, Python internally uses hashing to ensure each element is unique.\n",
        "-If you try to add a duplicate element, the set will ignore it—no error is raised, but it simply won't be added again.\n",
        "\n",
        "\n",
        "\n",
        "14.how does the \"in\" keywords work differently for lists and dictionaries?\n",
        "= In lists , Checks if a value exists among the elements of the list.\n",
        "- In dictionaries, Checks only the keys, not the values, by default.\n",
        "\n",
        "\n",
        "\n",
        "15.can you modify the elements of a tuples?explain why or why not?\n",
        "= no, tuple value can't be modify because its immutable data streucture means the data structures which can't be modify .\n",
        "\n",
        "\n",
        "\n",
        "16.what is nested dictionaries, and give an example of its use case?\n",
        "= A nested dictionary is a dictionary inside another dictionary. It allows you to store complex, hierarchical data in a structured way using key-value pairs.\n",
        "uses:\n",
        "-User profiles in web apps (user ID → profile details)\n",
        "\n",
        "- Inventory systems (category → items → details)\n",
        "\n",
        "\n",
        "\n",
        "17.describe the time complexcity of accesing elements in a dictionary?\n",
        "= In Python, dictionaries are implemented using hash tables, which makes access to elements very efficient.\n",
        "\n",
        "- Python calculates the hash of the key.\n",
        "\n",
        "- Uses it to find the corresponding bucket in the hash table.\n",
        "\n",
        "- Directly accesses the value — very fast.\n",
        "\n",
        "\n",
        "\n",
        "18.in what situations are lists preferred over dictionaries ?\n",
        "= While both are versatile data structures, lists are preferred in certain scenarios where order and simple storage are important.\n",
        "\n",
        "\n",
        "\n",
        "\n",
        "19.why dictinaries considered as unordered , and how does that affect data retrival?\n",
        "= This meant: the order in which you added key-value pairs was not preserved.\n",
        "\n",
        "- The internal structure (a hash table) focused on fast lookup, not order.\n",
        "\n",
        "\n",
        "\n",
        "\n",
        "\n",
        "20.explain the differences between a list and a dictionary in terms of data retrival?\n",
        "=\n",
        "Lists use position-based access → useful for sequences.\n",
        "\n",
        "- Dictionaries use key-based access → useful for labeled data.\n",
        "\n",
        "- Lists are good for ordered, duplicate-allowed collections.\n",
        "\n",
        "- Dictionaries are good for fast lookups and structured data.\n",
        "\n",
        "\n",
        "\n",
        "\n",
        "\n",
        "\n",
        "\n",
        "\n",
        "\n",
        "\n",
        "\n"
      ],
      "metadata": {
        "id": "fetl7ifRNMlH"
      }
    },
    {
      "cell_type": "code",
      "source": [
        "##write a code to create a string with your name and print it.\n",
        "\n",
        "my_name=(\"Manisha Junghare\")\n",
        "print(\"My name is:\", my_name)"
      ],
      "metadata": {
        "colab": {
          "base_uri": "https://localhost:8080/"
        },
        "id": "KdaW55_H7iaL",
        "outputId": "654cf317-ee13-4d60-f453-6756ac04543b"
      },
      "execution_count": 3,
      "outputs": [
        {
          "output_type": "stream",
          "name": "stdout",
          "text": [
            "My name is: Manisha Junghare\n"
          ]
        }
      ]
    },
    {
      "cell_type": "code",
      "source": [
        "##write a code to find the length of the string \"hello world\"\n",
        "\n",
        "text = \"hello world\"\n",
        "\n",
        "\n",
        "length = len(text)\n",
        "print(\"Length of the string:\", length)"
      ],
      "metadata": {
        "colab": {
          "base_uri": "https://localhost:8080/"
        },
        "id": "WHYwmVH5ItB6",
        "outputId": "bc63d375-fb42-43f4-b07f-e78181796dc8"
      },
      "execution_count": 13,
      "outputs": [
        {
          "output_type": "stream",
          "name": "stdout",
          "text": [
            "Length of the string: 11\n"
          ]
        }
      ]
    },
    {
      "cell_type": "code",
      "source": [
        "##write the code to slice the first 3 character from the string \"python programming\n",
        "\n",
        "\n",
        "text = \"python programming\"\n",
        "\n",
        "\n",
        "first_three = text[:3]\n",
        "print(\"First 3 characters:\", first_three)"
      ],
      "metadata": {
        "colab": {
          "base_uri": "https://localhost:8080/"
        },
        "id": "LMVN-324ItMh",
        "outputId": "d7095684-8d15-46cf-b7e9-d1845e2873b1"
      },
      "execution_count": 7,
      "outputs": [
        {
          "output_type": "stream",
          "name": "stdout",
          "text": [
            "First 3 characters: pyt\n"
          ]
        }
      ]
    },
    {
      "cell_type": "code",
      "source": [
        "##write the code to convert the string \"hello\" into uppercase\n",
        "text = \"hello\"\n",
        "\n",
        "uppercase_text = text.upper()\n",
        "print(\"Uppercase:\", uppercase_text)"
      ],
      "metadata": {
        "colab": {
          "base_uri": "https://localhost:8080/"
        },
        "id": "9eO6P7oNKqHI",
        "outputId": "fdeefdb9-263a-42de-c7ba-833e847cdb35"
      },
      "execution_count": 11,
      "outputs": [
        {
          "output_type": "stream",
          "name": "stdout",
          "text": [
            "Uppercase: HELLO\n"
          ]
        }
      ]
    },
    {
      "cell_type": "code",
      "source": [
        "##write the code to replace the word \"apple\" with \"orange\" \"i like apple\"\n",
        "text = \"i like apple\"\n",
        "\n",
        "\n",
        "new_text = text.replace(\"apple\", \"orange\")\n",
        "print(\"Updated string:\", new_text)"
      ],
      "metadata": {
        "colab": {
          "base_uri": "https://localhost:8080/"
        },
        "id": "1y13bYEyKqTo",
        "outputId": "a5e41e32-1beb-48ad-8a46-5cb93d74a53d"
      },
      "execution_count": 12,
      "outputs": [
        {
          "output_type": "stream",
          "name": "stdout",
          "text": [
            "Updated string: i like orange\n"
          ]
        }
      ]
    },
    {
      "cell_type": "code",
      "source": [
        "##write the code to crate a list with 1 to 5 and print it\n",
        "my_list = [1, 2, 3, 4, 5]\n",
        "\n",
        "print(\"List:\", my_list)"
      ],
      "metadata": {
        "colab": {
          "base_uri": "https://localhost:8080/"
        },
        "id": "5Mz8YlYcKqYI",
        "outputId": "3c219dc9-060d-4ddb-c716-3546d799a9d1"
      },
      "execution_count": 10,
      "outputs": [
        {
          "output_type": "stream",
          "name": "stdout",
          "text": [
            "List: [1, 2, 3, 4, 5]\n"
          ]
        }
      ]
    },
    {
      "cell_type": "code",
      "source": [
        "##write the code to append the number 10 into the list [1,2,3,4]\n",
        "\n",
        "my_list = [1, 2, 3, 4]\n",
        "\n",
        "\n",
        "my_list.append(10)\n",
        "print(\"Updated list:\", my_list)"
      ],
      "metadata": {
        "colab": {
          "base_uri": "https://localhost:8080/"
        },
        "id": "orbcBsdPKqc1",
        "outputId": "785d1744-9e20-4f89-ee86-4050cbc58ef0"
      },
      "execution_count": 9,
      "outputs": [
        {
          "output_type": "stream",
          "name": "stdout",
          "text": [
            "Updated list: [1, 2, 3, 4, 10]\n"
          ]
        }
      ]
    },
    {
      "cell_type": "code",
      "source": [
        "##write the code to remove the number 3 from list [1,2,3,4,5]\n",
        "my_list = [1, 2, 3, 4, 5]\n",
        "\n",
        "my_list.remove(3)\n",
        "print(\"Updated list:\", my_list)"
      ],
      "metadata": {
        "colab": {
          "base_uri": "https://localhost:8080/"
        },
        "id": "vXWcS7cAKqgU",
        "outputId": "cfffbcaf-bab4-4c14-f8bb-cac824595d3b"
      },
      "execution_count": 14,
      "outputs": [
        {
          "output_type": "stream",
          "name": "stdout",
          "text": [
            "Updated list: [1, 2, 4, 5]\n"
          ]
        }
      ]
    },
    {
      "cell_type": "code",
      "source": [
        "##write the code to access the second number from the list ['a','b','c','d,]\n",
        "\n",
        "my_list = ['a', 'b', 'c', 'd']\n",
        "\n",
        "\n",
        "second_item = my_list[1]\n",
        "print(\"Second item:\", second_item)"
      ],
      "metadata": {
        "colab": {
          "base_uri": "https://localhost:8080/"
        },
        "id": "oB3a1-JRM-YZ",
        "outputId": "ca0e9502-7ac7-4649-f15c-636ee779e114"
      },
      "execution_count": 15,
      "outputs": [
        {
          "output_type": "stream",
          "name": "stdout",
          "text": [
            "Second item: b\n"
          ]
        }
      ]
    }
  ]
}