{
  "nbformat": 4,
  "nbformat_minor": 0,
  "metadata": {
    "colab": {
      "provenance": []
    },
    "kernelspec": {
      "name": "python3",
      "display_name": "Python 3"
    },
    "language_info": {
      "name": "python"
    }
  },
  "cells": [
    {
      "cell_type": "markdown",
      "source": [
        "## python basics questions\n",
        "\n",
        " 1. what is python and why is it popular?\n",
        "   - It is a object-oriented,simplifying programming language. python is known for its simplifying,readblity and libraries. python syntax is designed asa a user friendly and easy to understand .python programming widely used in web devlopment,machine learning,data analyst and any other.  \n",
        "\n",
        "\n",
        " 2. what is an interpreter in python?\n",
        "   - In python, an interpreter is a software program exectes python code\n",
        "   directly. instead of complexing the code the interpreter reads the and executes the code .this makes python fast and flexible. the interpreter\n",
        "   handles error detection and helping you in identfying problems in code.\n",
        "  \n",
        "\n",
        " 3. what are predefined keywords in python?\n",
        "   - keywords in python are reserved words that have predefined meanings and purpose. This are the fundamental points of syntax and structure. these keywords can not used as a variable name,function names because keywords have specific roles. they are case sensitive and must be used as defined.\n",
        "   they can not be redefined .\n",
        "\n",
        "\n",
        " 4. can keywords be used as variable names?\n",
        "   - No, keywords are not used as variables names because keywords are pre-defined means it have already specific purpose. keywords can be redefined.\n",
        "\n",
        "\n",
        " 5. what is mutablity in python?\n",
        "  - In python, mutablity means it can modified any structure and content after they are intialize. modification happens directly without creatinng any new objects.\n",
        "\n",
        "\n",
        " 6. why are lists mutable and tuple are immutable?\n",
        " - lists are mutable because it content  can be changed after they are created.\n",
        " tuple are immutablr because it content can not be changed and one of the differences between tuples and other python data structure.\n",
        "\n",
        "\n",
        " 7. what is a differencs between \"==\" and \"is\" operator in python?\n",
        " - in python, this \"==\" is used for eauality or compares the objects of two objects. This \"==\" also known as equality operator.\n",
        " This \"is\" used for idntifying or focuses on the identify of the objects.\n",
        "\n",
        "\n",
        " 8. what are logical operator in python?\n",
        " - In python, logical operators are \" And\",\"Or\",\"Not\". They are used to combine conditional operator. these operators are used for conditional statements for control the flow of execution in a program.\n",
        "\n",
        "\n",
        " 9. what is typecasting in python?\n",
        " - typecasting isthe process of converting a one datatype into a other datatype. typecasting also known as type conversion.\n",
        "\n",
        "\n",
        " 10. what are the difference between implicit and explicit typecasting/\n",
        " - Implicit typecasting is done automatically by python. whereas , explicit typecasting needs programmer to convert one datatype into another datatype .\n",
        "\n",
        "\n",
        " 11. what is a purpose of conditional statement in python?\n",
        " - conditional statements are allows the program executes the block of code based on a specific connditions.\n",
        "\n",
        "\n",
        " 12. how does the elif statement works?\n",
        " - the \"elif\" statements allows to executes the multiple expressions during the exeution of program in conditional statement. It stands for \"else if\".if the first confition is false, it moves on to the next \"elif\" statement to chec if that condition is true.\n",
        "\n",
        "\n",
        " 13. what is the difference between for and while loops?\n",
        " - for loop is used to iterate over a sequence of items.\n",
        "while for loop is used to repeatedly execute a block of statements while a condition is true.\n",
        "\n",
        "\n",
        "14. describe a scenario where a while loop is more suitable than a for loop.\n",
        "- A while loop is more suitable when waiting for a user to input a specific value. for example, validating a password until its true.\n",
        "\n",
        "\n",
        "\n",
        "\n"
      ],
      "metadata": {
        "id": "k9oPg6HmFE7_"
      }
    },
    {
      "cell_type": "markdown",
      "source": [
        "# pratical questions"
      ],
      "metadata": {
        "id": "E8_WTB-ntGjX"
      }
    },
    {
      "cell_type": "code",
      "source": [
        "# 1. Write a Python program to print \"Hello, World!\" ?\n",
        "# Ans:\n",
        "\n",
        "print(\"Hello, World!\")\n"
      ],
      "metadata": {
        "colab": {
          "base_uri": "https://localhost:8080/"
        },
        "id": "KHchXMc1tOpD",
        "outputId": "f4bb7db2-4954-45b6-f782-8d4948f367c2"
      },
      "execution_count": 1,
      "outputs": [
        {
          "output_type": "stream",
          "name": "stdout",
          "text": [
            "Hello, World!\n"
          ]
        }
      ]
    },
    {
      "cell_type": "code",
      "source": [
        "# 2. Write a Python program that displays your name and age ?\n",
        "# Ans:\n",
        "\n",
        "name = \"Manisha\"\n",
        "age = 21\n",
        "print(\"Name:\",name)\n",
        "print(\"Age:\", age)"
      ],
      "metadata": {
        "colab": {
          "base_uri": "https://localhost:8080/"
        },
        "id": "Mkdvsl9XtvAK",
        "outputId": "ef126ebf-65e7-465a-fca6-3db27b468e7b"
      },
      "execution_count": 4,
      "outputs": [
        {
          "output_type": "stream",
          "name": "stdout",
          "text": [
            "Name: Manisha\n",
            "Age: 21\n"
          ]
        }
      ]
    },
    {
      "cell_type": "code",
      "source": [
        "# 3. Write code to print all the pre-defined keywords in Python using the keyword library ?\n",
        "# Ans:\n",
        "\n",
        "import keyword\n",
        "print(keyword.kwlist)"
      ],
      "metadata": {
        "colab": {
          "base_uri": "https://localhost:8080/"
        },
        "id": "H20-rz0YuBiG",
        "outputId": "bd8dd04a-dcc2-4353-d04e-ab47e96bc5b0"
      },
      "execution_count": 7,
      "outputs": [
        {
          "output_type": "stream",
          "name": "stdout",
          "text": [
            "['False', 'None', 'True', 'and', 'as', 'assert', 'async', 'await', 'break', 'class', 'continue', 'def', 'del', 'elif', 'else', 'except', 'finally', 'for', 'from', 'global', 'if', 'import', 'in', 'is', 'lambda', 'nonlocal', 'not', 'or', 'pass', 'raise', 'return', 'try', 'while', 'with', 'yield']\n"
          ]
        }
      ]
    },
    {
      "cell_type": "code",
      "source": [
        "# 5. Write a function to demonstrate the behavior of mutable and immutable arguments ?\n",
        "# Ans:\n",
        "\n",
        "def modify_list(lst):\n",
        "    lst.append(10)\n",
        "def modify_int(x):\n",
        "    x += 5\n",
        "my_list = [5,6]\n",
        "my_int = 10\n",
        "modify_list(my_list)\n",
        "modify_int(my_int)\n",
        "print(my_list)  # List modified\n",
        "print(my_int)  # Integer unchanged"
      ],
      "metadata": {
        "colab": {
          "base_uri": "https://localhost:8080/"
        },
        "id": "l_V1fSHrvY2B",
        "outputId": "d648ff2c-eca4-4fbe-9da7-1e7fccf3946d"
      },
      "execution_count": 19,
      "outputs": [
        {
          "output_type": "stream",
          "name": "stdout",
          "text": [
            "[5, 6, 10]\n",
            "10\n"
          ]
        }
      ]
    },
    {
      "cell_type": "code",
      "source": [
        "# 6. Write a program that performs basic arithmetic operations on two user-input numbers ?\n",
        "# Ans:\n",
        "\n",
        "a = int(input(\"Enter first number: \"))\n",
        "b = int(input(\"Enter second number: \"))\n",
        "print(\"Sum:\", a + b)\n",
        "print(\"Difference:\", a - b)\n",
        "print(\"Product:\", a * b)\n",
        "print(\"Quotient:\", a / b)"
      ],
      "metadata": {
        "colab": {
          "base_uri": "https://localhost:8080/"
        },
        "id": "f_yOOdlAvgnz",
        "outputId": "d3c7dae7-9926-4ffd-ed8f-df07097ac619"
      },
      "execution_count": 20,
      "outputs": [
        {
          "output_type": "stream",
          "name": "stdout",
          "text": [
            "Enter first number: 40\n",
            "Enter second number: 55\n",
            "Sum: 95\n",
            "Difference: -15\n",
            "Product: 2200\n",
            "Quotient: 0.7272727272727273\n"
          ]
        }
      ]
    },
    {
      "cell_type": "code",
      "source": [
        "# 7. Write a program to demonstrate the use of logical operators ?\n",
        "# Ans:\n",
        "\n",
        "a = True\n",
        "b = False\n",
        "print(\"a and b:\", a and b)\n",
        "print(\"a or b:\", a or b)\n",
        "print(\"not a:\", not a)"
      ],
      "metadata": {
        "colab": {
          "base_uri": "https://localhost:8080/"
        },
        "id": "Zccn4v5dv0aU",
        "outputId": "0dd273f7-e57f-40bc-b9fa-7a894c0e60ee"
      },
      "execution_count": 21,
      "outputs": [
        {
          "output_type": "stream",
          "name": "stdout",
          "text": [
            "a and b: False\n",
            "a or b: True\n",
            "not a: False\n"
          ]
        }
      ]
    },
    {
      "cell_type": "code",
      "source": [
        "# 8. Create a list and tuple in Python, and demonstrate how attempting to change an element works differently for each ?\n",
        "# Ans:\n",
        "\n",
        "my_list = [1, 2, 3]\n",
        "my_tuple = (1, 2, 3)\n",
        "my_list[0] = 10  # Works\n",
        "# my_tuple[0] = 10  # Raises TypeError"
      ],
      "metadata": {
        "id": "oauX44XRv6Uy"
      },
      "execution_count": 22,
      "outputs": []
    },
    {
      "cell_type": "code",
      "source": [
        "# 9. Write a Python program to convert user input from string to integer, float, and boolean type ?\n",
        "# Ans:\n",
        "\n",
        "s = input(\"Enter a value: \")\n",
        "print(\"Integer:\", int(s))\n",
        "print(\"Float:\", float(s))\n",
        "print(\"Boolean:\", bool(s))"
      ],
      "metadata": {
        "colab": {
          "base_uri": "https://localhost:8080/"
        },
        "id": "rrK3kQpswHCM",
        "outputId": "ae1f56e8-e1a3-43a0-bd64-31b56b8d0ebd"
      },
      "execution_count": 23,
      "outputs": [
        {
          "output_type": "stream",
          "name": "stdout",
          "text": [
            "Enter a value: 20\n",
            "Integer: 20\n",
            "Float: 20.0\n",
            "Boolean: True\n"
          ]
        }
      ]
    },
    {
      "cell_type": "code",
      "source": [
        "# 10. Write code to demonstrate type casting with list elements ?\n",
        "# Ans:\n",
        "\n",
        "lst = [\"3\", \"5\", \"9\"]\n",
        "int_list = [int(i) for i in lst]\n",
        "print(int_list)"
      ],
      "metadata": {
        "colab": {
          "base_uri": "https://localhost:8080/"
        },
        "id": "73NVIEVSwUmJ",
        "outputId": "008e942b-8fc4-4b1b-c877-1ff0850daf86"
      },
      "execution_count": 30,
      "outputs": [
        {
          "output_type": "stream",
          "name": "stdout",
          "text": [
            "[3, 5, 9]\n"
          ]
        }
      ]
    },
    {
      "cell_type": "code",
      "source": [
        "# 11. Write a program that checks if a number is positive, negative, or zero ?\n",
        "# Ans:\n",
        "\n",
        "n = int(input(\"Enter a number: \"))\n",
        "if n > 0:\n",
        "    print(\"Positive\")\n",
        "elif n < 0:\n",
        "    print(\"Negative\")\n",
        "else:\n",
        "    print(\"Zero\")"
      ],
      "metadata": {
        "colab": {
          "base_uri": "https://localhost:8080/"
        },
        "id": "5umn9-kPwVBN",
        "outputId": "c4ec7d40-5909-4a36-aa48-f6c78d10395c"
      },
      "execution_count": 25,
      "outputs": [
        {
          "output_type": "stream",
          "name": "stdout",
          "text": [
            "Enter a number: 10\n",
            "Positive\n"
          ]
        }
      ]
    },
    {
      "cell_type": "code",
      "source": [
        "# 12. Write a for loop to print numbers from 1 to 10 ?\n",
        "# Ans:\n",
        "\n",
        "for i in range(1, 11):\n",
        "    print(i)"
      ],
      "metadata": {
        "colab": {
          "base_uri": "https://localhost:8080/"
        },
        "id": "GVXcNjLewiQs",
        "outputId": "d1424dde-3c5c-49f8-ed8c-523c0b396d3b"
      },
      "execution_count": 26,
      "outputs": [
        {
          "output_type": "stream",
          "name": "stdout",
          "text": [
            "1\n",
            "2\n",
            "3\n",
            "4\n",
            "5\n",
            "6\n",
            "7\n",
            "8\n",
            "9\n",
            "10\n"
          ]
        }
      ]
    },
    {
      "cell_type": "code",
      "source": [
        "# 13. Write a Python program to find the sum of all even numbers between 1 and 50 ?\n",
        "# Ans:\n",
        "\n",
        "total = sum(i for i in range(1, 51) if i % 2 == 0)\n",
        "print(\"Sum of even numbers:\", total)"
      ],
      "metadata": {
        "colab": {
          "base_uri": "https://localhost:8080/"
        },
        "id": "JlJQqckBwmjk",
        "outputId": "50673064-acb1-48a0-cf47-ee065fc0ca69"
      },
      "execution_count": 27,
      "outputs": [
        {
          "output_type": "stream",
          "name": "stdout",
          "text": [
            "Sum of even numbers: 650\n"
          ]
        }
      ]
    },
    {
      "cell_type": "code",
      "source": [
        "# 14. Write a program to reverse a string using a while loop ?\n",
        "# Ans:\n",
        "\n",
        "s = input(\"Enter a string: \")\n",
        "reversed_s = \"\"\n",
        "i = len(s) - 1\n",
        "while i >= 0:\n",
        "    reversed_s += s[i]\n",
        "    i -= 1\n",
        "print(\"Reversed string:\", reversed_s)"
      ],
      "metadata": {
        "colab": {
          "base_uri": "https://localhost:8080/"
        },
        "id": "nAUmPS85wmwP",
        "outputId": "a1200367-ade8-4cd5-f5bb-188d05f75fa1"
      },
      "execution_count": 28,
      "outputs": [
        {
          "output_type": "stream",
          "name": "stdout",
          "text": [
            "Enter a string: abc\n",
            "Reversed string: cba\n"
          ]
        }
      ]
    },
    {
      "cell_type": "code",
      "source": [
        "# 15. Write a Python program to calculate the factorial of a number provided by the user using a while loop ?\n",
        "# Ans:\n",
        "\n",
        "n = int(input(\"Enter a number: \"))\n",
        "factorial = 1\n",
        "while n > 1:\n",
        "    factorial *= n\n",
        "    n -= 1\n",
        "print(\"Factorial:\", factorial)"
      ],
      "metadata": {
        "colab": {
          "base_uri": "https://localhost:8080/"
        },
        "id": "wJ6uO8UFxagW",
        "outputId": "44e6e4af-f0e3-4db1-f563-d61f09848bf7"
      },
      "execution_count": 31,
      "outputs": [
        {
          "output_type": "stream",
          "name": "stdout",
          "text": [
            "Enter a number: 10\n",
            "Factorial: 3628800\n"
          ]
        }
      ]
    }
  ]
}